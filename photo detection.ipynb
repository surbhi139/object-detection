{
 "cells": [
  {
   "cell_type": "code",
   "execution_count": null,
   "id": "0c348a43",
   "metadata": {},
   "outputs": [],
   "source": [
    "pip install opencv-python"
   ]
  },
  {
   "cell_type": "code",
   "execution_count": 1,
   "id": "ee4c3157",
   "metadata": {},
   "outputs": [],
   "source": [
    "import cv2"
   ]
  },
  {
   "cell_type": "code",
   "execution_count": 2,
   "id": "d13eb1fb",
   "metadata": {},
   "outputs": [],
   "source": [
    "import matplotlib.pyplot as plt"
   ]
  },
  {
   "cell_type": "code",
   "execution_count": 3,
   "id": "cf0be61b",
   "metadata": {},
   "outputs": [],
   "source": [
    "config_file= 'ssd_mobilenet_v3_large_coco_2020_01_14.pbtxt'\n",
    "frozen_model= 'frozen_inference_graph.pb'"
   ]
  },
  {
   "cell_type": "code",
   "execution_count": 4,
   "id": "6d8c52f6",
   "metadata": {},
   "outputs": [],
   "source": [
    "model= cv2.dnn_DetectionModel(frozen_model, config_file)"
   ]
  },
  {
   "cell_type": "code",
   "execution_count": 5,
   "id": "2a20daae",
   "metadata": {},
   "outputs": [],
   "source": [
    "classlabels = []\n",
    "file_name='coco.names'\n",
    "with open(file_name,'rt') as fpt:\n",
    "    classlabels = fpt.read().rstrip('\\n').split('\\n')"
   ]
  },
  {
   "cell_type": "code",
   "execution_count": 6,
   "id": "fada392b",
   "metadata": {},
   "outputs": [
    {
     "name": "stdout",
     "output_type": "stream",
     "text": [
      "['person', 'bicycle', 'car', 'motorcycle', 'airplane', 'bus', 'train', 'truck', 'boat', 'traffic light', 'fire hydrant', 'street sign', 'stop sign', 'parking meter', 'bench', 'bird', 'cat', 'dog', 'horse', 'sheep', 'cow', 'elephant', 'bear', 'zebra', 'giraffe', 'hat', 'backpack', 'umbrella', 'shoe', 'eye glasses', 'handbag', 'tie', 'suitcase', 'frisbee', 'skis', 'snowboard', 'sports ball', 'kite', 'baseball bat', 'baseball glove', 'skateboard', 'surfboard', 'tennis racket', 'bottle', 'plate', 'wine glass', 'cup', 'fork', 'knife', 'spoon', 'bowl', 'banana', 'apple', 'sandwich', 'orange', 'broccoli', 'carrot', 'hot dog', 'pizza', 'donut', 'cake', 'chair', 'couch', 'potted plant', 'bed', 'mirror', 'dining table', 'window', 'desk', 'toilet', 'door', 'tv', 'laptop', 'mouse', 'remote', 'keyboard', 'cell phone', 'microwave', 'oven', 'toaster', 'sink', 'refrigerator', 'blender', 'book', 'clock', 'vase', 'scissors', 'teddy bear', 'hair drier', 'toothbrush', 'hair brush']\n"
     ]
    }
   ],
   "source": [
    "print(classlabels)"
   ]
  },
  {
   "cell_type": "code",
   "execution_count": null,
   "id": "e4268c00",
   "metadata": {},
   "outputs": [],
   "source": [
    "print(len(classlabels))"
   ]
  },
  {
   "cell_type": "code",
   "execution_count": null,
   "id": "5699ff8c",
   "metadata": {},
   "outputs": [],
   "source": [
    "model.setInputSize(320,320)\n",
    "model.setInputScale(1.0/127.5)\n",
    "model.setInputMean((127.5,127.5,127.5))\n",
    "model.setInputSwapRB(True)"
   ]
  },
  {
   "cell_type": "code",
   "execution_count": null,
   "id": "6665baad",
   "metadata": {},
   "outputs": [],
   "source": [
    "img=cv2.imread('man-tuxedo-car-style-wallpaper-preview.jpg')"
   ]
  },
  {
   "cell_type": "code",
   "execution_count": null,
   "id": "43a299f4",
   "metadata": {},
   "outputs": [],
   "source": [
    "plt.imshow(img)"
   ]
  },
  {
   "cell_type": "code",
   "execution_count": null,
   "id": "2f4568c9",
   "metadata": {},
   "outputs": [],
   "source": [
    "plt.imshow(cv2.cvtColor(img, cv2.COLOR_BGR2RGB))"
   ]
  },
  {
   "cell_type": "code",
   "execution_count": null,
   "id": "c1da5017",
   "metadata": {},
   "outputs": [],
   "source": [
    "classIndex,confidece, bbox = model.detect(img, confThreshold = 0.5)"
   ]
  },
  {
   "cell_type": "code",
   "execution_count": null,
   "id": "ecdafc4d",
   "metadata": {},
   "outputs": [],
   "source": [
    "print(classIndex)"
   ]
  },
  {
   "cell_type": "code",
   "execution_count": null,
   "id": "d922898c",
   "metadata": {},
   "outputs": [],
   "source": [
    "font_scale = 3\n",
    "font = cv2.FONT_HERSHEY_PLAIN\n",
    "for classInd, conf, boxes in zip(classIndex.flatten(), confidece.flatten(), bbox):\n",
    "    #cv2.rectangle(frame, (x,y), (x+w, y+h), (255,0,0), 2)\n",
    "    #cv2.putText(img,text,(text_offset_x, text_offset_y), font, fontScale = font_scale, color = (0,0,0), thickness =1)\n",
    "    cv2.rectangle(img,boxes,(255,0,0), 2)\n",
    "    cv2.putText(img, classlabels[classInd -1], (boxes[0] + 10, boxes[1]+40), font, fontScale = font_scale, color = (0,255,0), thickness =3)"
   ]
  },
  {
   "cell_type": "code",
   "execution_count": null,
   "id": "08724f4c",
   "metadata": {},
   "outputs": [],
   "source": [
    "plt.imshow(cv2.cvtColor(img, cv2.COLOR_BGR2RGB))"
   ]
  },
  {
   "cell_type": "code",
   "execution_count": null,
   "id": "95f31665",
   "metadata": {},
   "outputs": [],
   "source": [
    "cap=cv2.VideoCapture('0')\n",
    "\n",
    "\n",
    "# check if the video is opened correctly\n",
    "if not cap.isOpened():\n",
    "    cap = cv2.VideoCapture(0)\n",
    "if not cap.isOpened():\n",
    "    raise IOError(\"cannot open video\")\n",
    "    \n",
    "    \n",
    "font_scale = 3\n",
    "font = cv2.FONT_HERSHEY_PLAIN\n",
    "\n",
    "while True:\n",
    "    ret, frame = cap.read()\n",
    "    \n",
    "    classIndex, confidece, bbox = model.detect(frame, confThreshold = 0.55)\n",
    "    \n",
    "    print(classIndex)\n",
    "    if(len(classIndex)!=0):\n",
    "        for classInd, conf, boxes in zip(classIndex.flatten(), confidece.flatten(), bbox):\n",
    "            if(classInd <= 80):\n",
    "                cv2.rectangle(frame, boxes,(255,0,0), 2)\n",
    "                cv2.putText(frame, classlabels[classInd-1], (boxes[0]+10, boxes[1] + 40), font, fontScale = font_scale, color = (0, 255,0), thickness = 3)\n",
    "    cv2.imshow(\"object detection\", frame)\n",
    "    \n",
    "    if cv2.waitKey(2) & 0xFF == ord('q'):\n",
    "        break\n",
    "cap.release()\n",
    "cv2.destroyAllWindows()"
   ]
  },
  {
   "cell_type": "code",
   "execution_count": null,
   "id": "7dee786e",
   "metadata": {},
   "outputs": [],
   "source": []
  }
 ],
 "metadata": {
  "kernelspec": {
   "display_name": "Python 3 (ipykernel)",
   "language": "python",
   "name": "python3"
  },
  "language_info": {
   "codemirror_mode": {
    "name": "ipython",
    "version": 3
   },
   "file_extension": ".py",
   "mimetype": "text/x-python",
   "name": "python",
   "nbconvert_exporter": "python",
   "pygments_lexer": "ipython3",
   "version": "3.9.7"
  }
 },
 "nbformat": 4,
 "nbformat_minor": 5
}
